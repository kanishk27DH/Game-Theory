{
 "cells": [
  {
   "cell_type": "code",
   "execution_count": 1,
   "metadata": {},
   "outputs": [
    {
     "data": {
      "text/plain": [
       "Bi matrix game with payoff matrices:\n",
       "\n",
       "Row player:\n",
       "[[2 0]\n",
       " [0 1]]\n",
       "\n",
       "Column player:\n",
       "[[1 0]\n",
       " [0 2]]"
      ]
     },
     "execution_count": 1,
     "metadata": {},
     "output_type": "execute_result"
    }
   ],
   "source": [
    "import nashpy as nash\n",
    "import numpy as np\n",
    "P_B=np.array([[2,0],[0,1]])\n",
    "P_S=np.array([[1,0],[0,2]])\n",
    "BoS=nash.Game(P_B,P_S)\n",
    "BoS"
   ]
  },
  {
   "cell_type": "code",
   "execution_count": 2,
   "metadata": {},
   "outputs": [
    {
     "data": {
      "text/plain": [
       "array([0, 0])"
      ]
     },
     "execution_count": 2,
     "metadata": {},
     "output_type": "execute_result"
    }
   ],
   "source": [
    "p_B_sigma=[1,0]\n",
    "p_S_sigma=[0,1]\n",
    "BoS[p_B_sigma,p_S_sigma]"
   ]
  },
  {
   "cell_type": "code",
   "execution_count": 3,
   "metadata": {},
   "outputs": [
    {
     "data": {
      "text/plain": [
       "[(array([1., 0.]), array([1., 0.])),\n",
       " (array([0., 1.]), array([0., 1.])),\n",
       " (array([0.66666667, 0.33333333]), array([0.33333333, 0.66666667]))]"
      ]
     },
     "execution_count": 3,
     "metadata": {},
     "output_type": "execute_result"
    }
   ],
   "source": [
    "eqs = BoS.support_enumeration()\n",
    "list(eqs)"
   ]
  },
  {
   "cell_type": "code",
   "execution_count": 4,
   "metadata": {},
   "outputs": [
    {
     "data": {
      "text/plain": [
       "[(array([1.11022302e-16, 1.00000000e+00]), array([0., 1.])),\n",
       " (array([0.66666667, 0.33333333]), array([0.33333333, 0.66666667])),\n",
       " (array([1., 0.]), array([1.00000000e+00, 1.11022302e-16]))]"
      ]
     },
     "execution_count": 4,
     "metadata": {},
     "output_type": "execute_result"
    }
   ],
   "source": [
    "eqs1=BoS.vertex_enumeration()\n",
    "list(eqs1)"
   ]
  },
  {
   "cell_type": "markdown",
   "metadata": {},
   "source": [
    "It has 2 Nash Equilibria : (B,B) and (S,S)"
   ]
  },
  {
   "cell_type": "markdown",
   "metadata": {},
   "source": [
    "Stag Hunt can also be represented as above."
   ]
  },
  {
   "cell_type": "code",
   "execution_count": null,
   "metadata": {},
   "outputs": [],
   "source": []
  }
 ],
 "metadata": {
  "kernelspec": {
   "display_name": "Python 3",
   "language": "python",
   "name": "python3"
  },
  "language_info": {
   "codemirror_mode": {
    "name": "ipython",
    "version": 3
   },
   "file_extension": ".py",
   "mimetype": "text/x-python",
   "name": "python",
   "nbconvert_exporter": "python",
   "pygments_lexer": "ipython3",
   "version": "3.7.6"
  }
 },
 "nbformat": 4,
 "nbformat_minor": 4
}
